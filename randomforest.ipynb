{
 "cells": [
  {
   "cell_type": "markdown",
   "metadata": {},
   "source": [
    "1. Load the Libraries"
   ]
  },
  {
   "cell_type": "code",
   "execution_count": 1,
   "metadata": {},
   "outputs": [],
   "source": [
    "import pandas as pd\n",
    "import time\n",
    "import matplotlib.pyplot as plt\n",
    "import seaborn as sns\n",
    "from sklearn.ensemble import RandomForestClassifier\n",
    "from sklearn.metrics import confusion_matrix\n",
    "from sklearn.metrics import ConfusionMatrixDisplay                   \n",
    "from sklearn.model_selection import GridSearchCV\n",
    "from sklearn.metrics import accuracy_score, classification_report\n"
   ]
  },
  {
   "cell_type": "markdown",
   "metadata": {},
   "source": [
    "2. Load the pre-processed files "
   ]
  },
  {
   "cell_type": "code",
   "execution_count": 2,
   "metadata": {},
   "outputs": [],
   "source": [
    "# Load preprocessed train and test csv\n",
    "train_df = pd.read_csv('post-processed_train.csv')\n",
    "test_df = pd.read_csv('post-processed_test.csv')"
   ]
  },
  {
   "cell_type": "markdown",
   "metadata": {},
   "source": [
    "3. Data Preparation for Machine Learning"
   ]
  },
  {
   "cell_type": "code",
   "execution_count": 3,
   "metadata": {},
   "outputs": [],
   "source": [
    "#For the training data\n",
    "# All columns as features except for the last column, and Income-per-year_encoded as target\n",
    "X_train = train_df.iloc[:, :-1].values  # All columns as features except for the last column\n",
    "y_train = train_df['income-per-year_encoded'].values # Income-per-year_encoded as target"
   ]
  },
  {
   "cell_type": "code",
   "execution_count": 4,
   "metadata": {},
   "outputs": [],
   "source": [
    "#For the test data\n",
    "# All columns as features except for the last column, and Income-per-year_encoded as target\n",
    "X_test = test_df.iloc[:, :-1].values  \n",
    "y_test = test_df['income-per-year_encoded']  "
   ]
  },
  {
   "cell_type": "markdown",
   "metadata": {},
   "source": [
    "4. Start of the Random Forest Classifier (Before making any hyper-parameters tuning)"
   ]
  },
  {
   "cell_type": "code",
   "execution_count": 5,
   "metadata": {},
   "outputs": [],
   "source": [
    "#Initialize Random Forest Classifier\n",
    "rf = RandomForestClassifier(n_estimators=400, random_state=42)"
   ]
  },
  {
   "cell_type": "code",
   "execution_count": 6,
   "metadata": {},
   "outputs": [
    {
     "name": "stdout",
     "output_type": "stream",
     "text": [
      "Accuracy before tuning: 84.06%\n",
      "Training Time for RandomForest (Before Tuning) is 10.259594678878784 seconds\n"
     ]
    }
   ],
   "source": [
    "#Record the start time\n",
    "start_time = time.time()\n",
    "\n",
    "# Train the Model\n",
    "rf.fit(X_train, y_train)\n",
    "\n",
    "# Make Predictions\n",
    "y_pred_before_tuning = rf.predict(X_test)\n",
    "\n",
    "# Evaluate the Model\n",
    "accuracy = accuracy_score(y_test, y_pred_before_tuning)\n",
    "print(f\"Accuracy before tuning: {accuracy * 100:.2f}%\")\n",
    "\n",
    "# Stop the timer after training\n",
    "end_time = time.time()\n",
    "\n",
    "print(\"Training Time for RandomForest (Before Tuning) is\", (end_time-start_time), \"seconds\")\n"
   ]
  },
  {
   "cell_type": "code",
   "execution_count": 7,
   "metadata": {},
   "outputs": [
    {
     "name": "stdout",
     "output_type": "stream",
     "text": [
      "\n",
      "Classification Report before tuning:\n",
      "              precision    recall  f1-score   support\n",
      "\n",
      "           0       0.88      0.91      0.90     11360\n",
      "           1       0.70      0.61      0.65      3700\n",
      "\n",
      "    accuracy                           0.84     15060\n",
      "   macro avg       0.79      0.76      0.78     15060\n",
      "weighted avg       0.84      0.84      0.84     15060\n",
      "\n"
     ]
    }
   ],
   "source": [
    "# Display classification report for detailed metrics\n",
    "print(\"\\nClassification Report before tuning:\")\n",
    "print(classification_report(y_test, y_pred_before_tuning))"
   ]
  },
  {
   "cell_type": "code",
   "execution_count": 8,
   "metadata": {},
   "outputs": [
    {
     "data": {
      "image/png": "[encoded data removed]",
      "text/plain": [
       "<Figure size 640x480 with 2 Axes>"
      ]
     },
     "metadata": {},
     "output_type": "display_data"
    },
    {
     "name": "stdout",
     "output_type": "stream",
     "text": [
      "Confusion Matrix:\n",
      "[[10392   968]\n",
      " [ 1432  2268]]\n"
     ]
    }
   ],
   "source": [
    "# Make predictions on the test set\n",
    "y_pred = rf.predict(X_test)\n",
    "\n",
    "# Generate the confusion matrix\n",
    "cm = confusion_matrix(y_test, y_pred)\n",
    "\n",
    "# Use Seaborn heatmap to visualize the matrix and display more than 4 digits\n",
    "sns.heatmap(cm, annot=True, fmt='.6g', cmap=\"Blues\")\n",
    "\n",
    "\n",
    "# Show the plot\n",
    "plt.show()\n",
    "\n",
    "# Print the confusion matrix\n",
    "print(\"Confusion Matrix:\")\n",
    "print(cm)"
   ]
  },
  {
   "cell_type": "markdown",
   "metadata": {},
   "source": [
    "5. Setup Grid Search for hyper parameter tuning"
   ]
  },
  {
   "cell_type": "code",
   "execution_count": 9,
   "metadata": {},
   "outputs": [
    {
     "name": "stdout",
     "output_type": "stream",
     "text": [
      "Fitting 5 folds for each of 432 candidates, totalling 2160 fits\n",
      "Best Parameters: {'bootstrap': True, 'max_depth': 50, 'max_features': 'sqrt', 'min_samples_leaf': 4, 'min_samples_split': 2, 'n_estimators': 50}\n",
      "Training Time for RandomForest (Search for Best Parameters) is:  616.4617576599121 seconds\n",
      "Test Set Score: 0.8598937583001328\n"
     ]
    }
   ],
   "source": [
    "start_time = time.time()\n",
    "\n",
    "# Define the parameter grid\n",
    "param_grid = {\n",
    "    'n_estimators': [10, 50, 100 ], # Number of trees in the forest\n",
    "    'max_features': ['sqrt', 'log2'], # Maximum features of the tree\n",
    "    'max_depth': [10, 50, 100, None], # Maximum depth of the tree\n",
    "    'min_samples_split': [2, 5, 10], # Minimum number of samples required to split an internal node\n",
    "    'min_samples_leaf': [1, 2, 4], # Minimum number of samples required to be at a leaf node\n",
    "    'bootstrap': [True, False] # Whether bootstrap samples are used when building trees\n",
    "}\n",
    "\n",
    "# Initialize GridSearchCV with 5-fold cross-validation\n",
    "grid_search = GridSearchCV(estimator=rf, param_grid=param_grid, \n",
    "                           cv=5, n_jobs=-1, verbose=2, scoring='accuracy')\n",
    "\n",
    "# Fit the GridSearchCV to the data\n",
    "grid_search.fit(X_train, y_train)\n",
    "\n",
    "# Get the best hyperparameters\n",
    "print(\"Best Parameters:\", grid_search.best_params_)\n",
    "\n",
    "# Stop the timer after training\n",
    "end_time = time.time()\n",
    "\n",
    "print(\"Training Time for RandomForest (Search for Best Parameters) is: \", (end_time-start_time), \"seconds\")\n",
    "\n",
    "# Evaluate on the test set\n",
    "test_score = grid_search.score(X_test, y_test)\n",
    "print(\"Test Set Score:\", test_score) \n"
   ]
  },
  {
   "cell_type": "code",
   "execution_count": 10,
   "metadata": {},
   "outputs": [],
   "source": [
    "# Train the RandomForest with the best hyperparameters\n",
    "best_rf = grid_search.best_estimator_ \n",
    "y_pred_after_tuning = best_rf.predict(X_test)"
   ]
  },
  {
   "cell_type": "code",
   "execution_count": 11,
   "metadata": {},
   "outputs": [
    {
     "name": "stdout",
     "output_type": "stream",
     "text": [
      "\n",
      "Classification Report (After Tuning):\n",
      "\n",
      "              precision    recall  f1-score   support\n",
      "\n",
      "           0       0.88      0.94      0.91     11360\n",
      "           1       0.78      0.60      0.68      3700\n",
      "\n",
      "    accuracy                           0.86     15060\n",
      "   macro avg       0.83      0.77      0.79     15060\n",
      "weighted avg       0.85      0.86      0.85     15060\n",
      "\n"
     ]
    }
   ],
   "source": [
    "# Print classification report (After Tuning)\n",
    "print(\"\\nClassification Report (After Tuning):\\n\")\n",
    "print(classification_report(y_test, y_pred_after_tuning))"
   ]
  }
 ],
 "metadata": {
  "kernelspec": {
   "display_name": "Python 3",
   "language": "python",
   "name": "python3"
  },
  "language_info": {
   "codemirror_mode": {
    "name": "ipython",
    "version": 3
   },
   "file_extension": ".py",
   "mimetype": "text/x-python",
   "name": "python",
   "nbconvert_exporter": "python",
   "pygments_lexer": "ipython3",
   "version": "3.12.6"
  }
 },
 "nbformat": 4,
 "nbformat_minor": 2
}
